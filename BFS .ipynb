{
 "cells": [
  {
   "cell_type": "code",
   "execution_count": 7,
   "id": "435ff7d9",
   "metadata": {},
   "outputs": [
    {
     "name": "stderr",
     "output_type": "stream",
     "text": [
      "Usage: streamlit run [OPTIONS] TARGET [ARGS]...\n",
      "Try 'streamlit run --help' for help.\n",
      "\n",
      "Error: Streamlit requires raw Python (.py) files, but the provided file has no extension.\n",
      "For more information, please see https://docs.streamlit.io\n"
     ]
    }
   ],
   "source": [
    "!streamlit run BFS.py"
   ]
  },
  {
   "cell_type": "code",
   "execution_count": 6,
   "id": "06959c38",
   "metadata": {},
   "outputs": [
    {
     "name": "stdout",
     "output_type": "stream",
     "text": [
      "Writing BFS.py\n"
     ]
    }
   ],
   "source": [
    "%%writefile BFS.py\n",
    "\n",
    "import streamlit as st\n",
    "\n",
    "st.header(\"WELCOME TO BFS GLOBAL ENTERPRISE\")"
   ]
  },
  {
   "cell_type": "code",
   "execution_count": null,
   "id": "ba94ed1d",
   "metadata": {},
   "outputs": [],
   "source": [
    "!streamlit run BFS.py"
   ]
  },
  {
   "cell_type": "code",
   "execution_count": null,
   "id": "6e9ac7ad",
   "metadata": {},
   "outputs": [],
   "source": []
  },
  {
   "cell_type": "code",
   "execution_count": null,
   "id": "67c0dbf7",
   "metadata": {},
   "outputs": [],
   "source": []
  },
  {
   "cell_type": "code",
   "execution_count": null,
   "id": "88328289",
   "metadata": {},
   "outputs": [],
   "source": []
  }
 ],
 "metadata": {
  "kernelspec": {
   "display_name": "Python 3 (ipykernel)",
   "language": "python",
   "name": "python3"
  },
  "language_info": {
   "codemirror_mode": {
    "name": "ipython",
    "version": 3
   },
   "file_extension": ".py",
   "mimetype": "text/x-python",
   "name": "python",
   "nbconvert_exporter": "python",
   "pygments_lexer": "ipython3",
   "version": "3.9.13"
  }
 },
 "nbformat": 4,
 "nbformat_minor": 5
}
