{
 "cells": [
  {
   "cell_type": "code",
   "execution_count": 2,
   "id": "b8fd69b7",
   "metadata": {},
   "outputs": [
    {
     "name": "stdout",
     "output_type": "stream",
     "text": [
      "^C\n"
     ]
    }
   ],
   "source": [
    "!streamlit run Body_Exercise.py"
   ]
  },
  {
   "cell_type": "code",
   "execution_count": null,
   "id": "9e13aafd",
   "metadata": {},
   "outputs": [],
   "source": [
    "!streamlit run Body_Exercise.py"
   ]
  },
  {
   "cell_type": "code",
   "execution_count": null,
   "id": "c0c10b51",
   "metadata": {},
   "outputs": [],
   "source": []
  }
 ],
 "metadata": {
  "kernelspec": {
   "display_name": "Python 3 (ipykernel)",
   "language": "python",
   "name": "python3"
  },
  "language_info": {
   "codemirror_mode": {
    "name": "ipython",
    "version": 3
   },
   "file_extension": ".py",
   "mimetype": "text/x-python",
   "name": "python",
   "nbconvert_exporter": "python",
   "pygments_lexer": "ipython3",
   "version": "3.9.13"
  }
 },
 "nbformat": 4,
 "nbformat_minor": 5
}
